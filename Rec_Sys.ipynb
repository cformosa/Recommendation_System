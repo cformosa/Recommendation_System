{
 "cells": [
  {
   "cell_type": "code",
   "execution_count": 2,
   "metadata": {
    "collapsed": true
   },
   "outputs": [],
   "source": [
    "from surprise import SVD\n",
    "from surprise import Dataset\n",
    "from surprise.model_selection import cross_validate"
   ]
  },
  {
   "cell_type": "code",
   "execution_count": 3,
   "metadata": {
    "collapsed": false
   },
   "outputs": [
    {
     "name": "stdout",
     "output_type": "stream",
     "text": [
      "Dataset ml-100k could not be found. Do you want to download it? [Y/n] Y\n",
      "Trying to download dataset from http://files.grouplens.org/datasets/movielens/ml-100k.zip...\n",
      "Done! Dataset ml-100k has been saved to C:\\Users\\290002494/.surprise_data/ml-100k\n"
     ]
    }
   ],
   "source": [
    "data = Dataset.load_builtin(\"ml-100k\")"
   ]
  },
  {
   "cell_type": "code",
   "execution_count": 8,
   "metadata": {
    "collapsed": true
   },
   "outputs": [],
   "source": [
    "# We'll use the famous SVD algorithm.\n",
    "algo = SVD()"
   ]
  },
  {
   "cell_type": "code",
   "execution_count": 9,
   "metadata": {
    "collapsed": false
   },
   "outputs": [
    {
     "name": "stdout",
     "output_type": "stream",
     "text": [
      "Evaluating RMSE, MAE of algorithm SVD on 5 split(s).\n",
      "\n",
      "                  Fold 1  Fold 2  Fold 3  Fold 4  Fold 5  Mean    Std     \n",
      "RMSE (testset)    0.9379  0.9317  0.9327  0.9430  0.9353  0.9361  0.0041  \n",
      "MAE (testset)     0.7401  0.7338  0.7352  0.7425  0.7363  0.7376  0.0032  \n",
      "Fit time          5.72    5.58    5.66    5.52    5.69    5.64    0.08    \n",
      "Test time         0.30    0.19    0.13    0.19    0.14    0.19    0.06    \n"
     ]
    },
    {
     "data": {
      "text/plain": [
       "{'fit_time': (5.719783544540405,\n",
       "  5.582789421081543,\n",
       "  5.6643946170806885,\n",
       "  5.517378807067871,\n",
       "  5.694593667984009),\n",
       " 'test_mae': array([0.74008121, 0.73384781, 0.73518777, 0.74251912, 0.73633584]),\n",
       " 'test_rmse': array([0.93789723, 0.93166776, 0.9327404 , 0.94298438, 0.93531498]),\n",
       " 'test_time': (0.29640960693359375,\n",
       "  0.1860063076019287,\n",
       "  0.1273043155670166,\n",
       "  0.19100642204284668,\n",
       "  0.14040446281433105)}"
      ]
     },
     "execution_count": 9,
     "metadata": {},
     "output_type": "execute_result"
    }
   ],
   "source": [
    "# Run 5-fold cross-validation and print results\n",
    "cross_validate(algo, data, measures=['RMSE', 'MAE'], cv=5, verbose=True)"
   ]
  },
  {
   "cell_type": "code",
   "execution_count": 14,
   "metadata": {
    "collapsed": false
   },
   "outputs": [
    {
     "data": {
      "text/plain": [
       "{'fit_time': (0.0, 0.0, 0.0, 0.0, 0.0),\n",
       " 'test_mae': array([1.71726515, 1.99095807, 0.64231081, 0.85600136, 0.41658984]),\n",
       " 'test_rmse': array([1.71726515, 1.99095807, 0.64231081, 0.85600136, 0.41658984]),\n",
       " 'test_time': (0.0, 0.0, 0.0, 0.0, 0.0)}"
      ]
     },
     "execution_count": 14,
     "metadata": {},
     "output_type": "execute_result"
    }
   ],
   "source": [
    "#or do it from a dataframe\n",
    "import pandas as pd\n",
    "\n",
    "from surprise import NormalPredictor\n",
    "from surprise import Dataset\n",
    "from surprise import Reader\n",
    "from surprise.model_selection import cross_validate\n",
    "\n",
    "\n",
    "# Creation of the dataframe. Column names are irrelevant.\n",
    "ratings_dict = {'itemID': [1, 1, 1, 2, 2],\n",
    "                'userID': [9, 32, 2, 45, 'user_foo'],\n",
    "                'rating': [3, 2, 4, 3, 1]}\n",
    "df = pd.DataFrame(ratings_dict)\n",
    "\n",
    "# A reader is still needed but only the rating_scale param is requiered.\n",
    "reader = Reader(rating_scale=(1, 5))\n",
    "\n",
    "# The columns must correspond to user id, item id and ratings (in that order). The data can be reorder to this :)\n",
    "data = Dataset.load_from_df(df[['userID', 'itemID', 'rating']], reader)\n",
    "\n",
    "# We can now use this dataset as we please, e.g. calling cross_validate\n",
    "cross_validate(SVD(), data, cv=5)"
   ]
  },
  {
   "cell_type": "markdown",
   "metadata": {},
   "source": [
    "https://www.kaggle.com/c/beer-ratings/data"
   ]
  },
  {
   "cell_type": "markdown",
   "metadata": {},
   "source": [
    "Try having multiple ratings with keras"
   ]
  },
  {
   "cell_type": "code",
   "execution_count": 1,
   "metadata": {
    "collapsed": false
   },
   "outputs": [
    {
     "data": {
      "text/html": [
       "<div>\n",
       "<style scoped>\n",
       "    .dataframe tbody tr th:only-of-type {\n",
       "        vertical-align: middle;\n",
       "    }\n",
       "\n",
       "    .dataframe tbody tr th {\n",
       "        vertical-align: top;\n",
       "    }\n",
       "\n",
       "    .dataframe thead th {\n",
       "        text-align: right;\n",
       "    }\n",
       "</style>\n",
       "<table border=\"1\" class=\"dataframe\">\n",
       "  <thead>\n",
       "    <tr style=\"text-align: right;\">\n",
       "      <th></th>\n",
       "      <th>index</th>\n",
       "      <th>beer/ABV</th>\n",
       "      <th>beer/beerId</th>\n",
       "      <th>beer/brewerId</th>\n",
       "      <th>beer/name</th>\n",
       "      <th>beer/style</th>\n",
       "      <th>review/appearance</th>\n",
       "      <th>review/aroma</th>\n",
       "      <th>review/overall</th>\n",
       "      <th>review/palate</th>\n",
       "      <th>review/taste</th>\n",
       "      <th>review/text</th>\n",
       "      <th>review/timeStruct</th>\n",
       "      <th>review/timeUnix</th>\n",
       "      <th>user/ageInSeconds</th>\n",
       "      <th>user/birthdayRaw</th>\n",
       "      <th>user/birthdayUnix</th>\n",
       "      <th>user/gender</th>\n",
       "      <th>user/profileName</th>\n",
       "    </tr>\n",
       "  </thead>\n",
       "  <tbody>\n",
       "    <tr>\n",
       "      <th>0</th>\n",
       "      <td>40163</td>\n",
       "      <td>5.0</td>\n",
       "      <td>46634</td>\n",
       "      <td>14338</td>\n",
       "      <td>Chiostro</td>\n",
       "      <td>Herbed / Spiced Beer</td>\n",
       "      <td>4.0</td>\n",
       "      <td>4.0</td>\n",
       "      <td>4.0</td>\n",
       "      <td>4.0</td>\n",
       "      <td>4.0</td>\n",
       "      <td>Pours a clouded gold with a thin white head. N...</td>\n",
       "      <td>{'min': 38, 'hour': 3, 'mday': 16, 'sec': 10, ...</td>\n",
       "      <td>1229398690</td>\n",
       "      <td>NaN</td>\n",
       "      <td>NaN</td>\n",
       "      <td>NaN</td>\n",
       "      <td>NaN</td>\n",
       "      <td>RblWthACoz</td>\n",
       "    </tr>\n",
       "    <tr>\n",
       "      <th>1</th>\n",
       "      <td>8135</td>\n",
       "      <td>11.0</td>\n",
       "      <td>3003</td>\n",
       "      <td>395</td>\n",
       "      <td>Bearded Pat's Barleywine</td>\n",
       "      <td>American Barleywine</td>\n",
       "      <td>4.0</td>\n",
       "      <td>3.5</td>\n",
       "      <td>3.5</td>\n",
       "      <td>3.5</td>\n",
       "      <td>3.0</td>\n",
       "      <td>12oz bottle into 8oz snifter.\\t\\tDeep ruby red...</td>\n",
       "      <td>{'min': 38, 'hour': 23, 'mday': 8, 'sec': 58, ...</td>\n",
       "      <td>1218238738</td>\n",
       "      <td>NaN</td>\n",
       "      <td>NaN</td>\n",
       "      <td>NaN</td>\n",
       "      <td>NaN</td>\n",
       "      <td>BeerSox</td>\n",
       "    </tr>\n",
       "    <tr>\n",
       "      <th>2</th>\n",
       "      <td>10529</td>\n",
       "      <td>4.7</td>\n",
       "      <td>961</td>\n",
       "      <td>365</td>\n",
       "      <td>Naughty Nellie's Ale</td>\n",
       "      <td>American Pale Ale (APA)</td>\n",
       "      <td>3.5</td>\n",
       "      <td>4.0</td>\n",
       "      <td>3.5</td>\n",
       "      <td>3.5</td>\n",
       "      <td>3.5</td>\n",
       "      <td>First enjoyed at the brewpub about 2 years ago...</td>\n",
       "      <td>{'min': 7, 'hour': 18, 'mday': 26, 'sec': 2, '...</td>\n",
       "      <td>1101492422</td>\n",
       "      <td>NaN</td>\n",
       "      <td>NaN</td>\n",
       "      <td>NaN</td>\n",
       "      <td>Male</td>\n",
       "      <td>mschofield</td>\n",
       "    </tr>\n",
       "    <tr>\n",
       "      <th>3</th>\n",
       "      <td>44610</td>\n",
       "      <td>4.4</td>\n",
       "      <td>429</td>\n",
       "      <td>1</td>\n",
       "      <td>Pilsner Urquell</td>\n",
       "      <td>Czech Pilsener</td>\n",
       "      <td>3.0</td>\n",
       "      <td>3.0</td>\n",
       "      <td>2.5</td>\n",
       "      <td>3.0</td>\n",
       "      <td>3.0</td>\n",
       "      <td>First thing I noticed after pouring from green...</td>\n",
       "      <td>{'min': 7, 'hour': 1, 'mday': 20, 'sec': 5, 'y...</td>\n",
       "      <td>1308532025</td>\n",
       "      <td>1.209827e+09</td>\n",
       "      <td>10-Aug-76</td>\n",
       "      <td>208508400.0</td>\n",
       "      <td>Male</td>\n",
       "      <td>molegar76</td>\n",
       "    </tr>\n",
       "    <tr>\n",
       "      <th>4</th>\n",
       "      <td>37062</td>\n",
       "      <td>4.4</td>\n",
       "      <td>4904</td>\n",
       "      <td>1417</td>\n",
       "      <td>Black Sheep Ale (Special)</td>\n",
       "      <td>English Pale Ale</td>\n",
       "      <td>4.0</td>\n",
       "      <td>3.0</td>\n",
       "      <td>3.0</td>\n",
       "      <td>3.5</td>\n",
       "      <td>2.5</td>\n",
       "      <td>A: pours an amber with a one finger head but o...</td>\n",
       "      <td>{'min': 51, 'hour': 6, 'mday': 12, 'sec': 48, ...</td>\n",
       "      <td>1299912708</td>\n",
       "      <td>NaN</td>\n",
       "      <td>NaN</td>\n",
       "      <td>NaN</td>\n",
       "      <td>NaN</td>\n",
       "      <td>Brewbro000</td>\n",
       "    </tr>\n",
       "  </tbody>\n",
       "</table>\n",
       "</div>"
      ],
      "text/plain": [
       "   index  beer/ABV  beer/beerId  beer/brewerId                  beer/name  \\\n",
       "0  40163       5.0        46634          14338                   Chiostro   \n",
       "1   8135      11.0         3003            395   Bearded Pat's Barleywine   \n",
       "2  10529       4.7          961            365       Naughty Nellie's Ale   \n",
       "3  44610       4.4          429              1            Pilsner Urquell   \n",
       "4  37062       4.4         4904           1417  Black Sheep Ale (Special)   \n",
       "\n",
       "                beer/style  review/appearance  review/aroma  review/overall  \\\n",
       "0     Herbed / Spiced Beer                4.0           4.0             4.0   \n",
       "1      American Barleywine                4.0           3.5             3.5   \n",
       "2  American Pale Ale (APA)                3.5           4.0             3.5   \n",
       "3           Czech Pilsener                3.0           3.0             2.5   \n",
       "4         English Pale Ale                4.0           3.0             3.0   \n",
       "\n",
       "   review/palate  review/taste  \\\n",
       "0            4.0           4.0   \n",
       "1            3.5           3.0   \n",
       "2            3.5           3.5   \n",
       "3            3.0           3.0   \n",
       "4            3.5           2.5   \n",
       "\n",
       "                                         review/text  \\\n",
       "0  Pours a clouded gold with a thin white head. N...   \n",
       "1  12oz bottle into 8oz snifter.\\t\\tDeep ruby red...   \n",
       "2  First enjoyed at the brewpub about 2 years ago...   \n",
       "3  First thing I noticed after pouring from green...   \n",
       "4  A: pours an amber with a one finger head but o...   \n",
       "\n",
       "                                   review/timeStruct  review/timeUnix  \\\n",
       "0  {'min': 38, 'hour': 3, 'mday': 16, 'sec': 10, ...       1229398690   \n",
       "1  {'min': 38, 'hour': 23, 'mday': 8, 'sec': 58, ...       1218238738   \n",
       "2  {'min': 7, 'hour': 18, 'mday': 26, 'sec': 2, '...       1101492422   \n",
       "3  {'min': 7, 'hour': 1, 'mday': 20, 'sec': 5, 'y...       1308532025   \n",
       "4  {'min': 51, 'hour': 6, 'mday': 12, 'sec': 48, ...       1299912708   \n",
       "\n",
       "   user/ageInSeconds user/birthdayRaw  user/birthdayUnix user/gender  \\\n",
       "0                NaN              NaN                NaN         NaN   \n",
       "1                NaN              NaN                NaN         NaN   \n",
       "2                NaN              NaN                NaN        Male   \n",
       "3       1.209827e+09        10-Aug-76        208508400.0        Male   \n",
       "4                NaN              NaN                NaN         NaN   \n",
       "\n",
       "  user/profileName  \n",
       "0       RblWthACoz  \n",
       "1          BeerSox  \n",
       "2       mschofield  \n",
       "3        molegar76  \n",
       "4       Brewbro000  "
      ]
     },
     "execution_count": 1,
     "metadata": {},
     "output_type": "execute_result"
    }
   ],
   "source": [
    "import pandas as pd\n",
    "beer = pd.read_csv(\"beer.csv\")\n",
    "beer.head()"
   ]
  },
  {
   "cell_type": "code",
   "execution_count": 7,
   "metadata": {
    "collapsed": true
   },
   "outputs": [],
   "source": [
    "#beerId is unique ID indicating the beer reviewed\n",
    "#brewerId is a unique ID indicating the brewery\n",
    "\n",
    "#this will NOT working if your numbers are not between (0, #beers) or (0, #breweries)"
   ]
  },
  {
   "cell_type": "code",
   "execution_count": 2,
   "metadata": {
    "collapsed": false
   },
   "outputs": [
    {
     "data": {
      "text/html": [
       "<div>\n",
       "<style scoped>\n",
       "    .dataframe tbody tr th:only-of-type {\n",
       "        vertical-align: middle;\n",
       "    }\n",
       "\n",
       "    .dataframe tbody tr th {\n",
       "        vertical-align: top;\n",
       "    }\n",
       "\n",
       "    .dataframe thead th {\n",
       "        text-align: right;\n",
       "    }\n",
       "</style>\n",
       "<table border=\"1\" class=\"dataframe\">\n",
       "  <thead>\n",
       "    <tr style=\"text-align: right;\">\n",
       "      <th></th>\n",
       "      <th>ABV</th>\n",
       "      <th>beerId</th>\n",
       "      <th>brewery</th>\n",
       "      <th>name</th>\n",
       "      <th>style</th>\n",
       "      <th>appearance</th>\n",
       "      <th>aroma</th>\n",
       "      <th>overall</th>\n",
       "      <th>palate</th>\n",
       "      <th>taste</th>\n",
       "      <th>review</th>\n",
       "    </tr>\n",
       "  </thead>\n",
       "  <tbody>\n",
       "    <tr>\n",
       "      <th>0</th>\n",
       "      <td>5.0</td>\n",
       "      <td>46634</td>\n",
       "      <td>14338</td>\n",
       "      <td>Chiostro</td>\n",
       "      <td>Herbed / Spiced Beer</td>\n",
       "      <td>4.0</td>\n",
       "      <td>4.0</td>\n",
       "      <td>4.0</td>\n",
       "      <td>4.0</td>\n",
       "      <td>4.0</td>\n",
       "      <td>Pours a clouded gold with a thin white head. N...</td>\n",
       "    </tr>\n",
       "    <tr>\n",
       "      <th>1</th>\n",
       "      <td>11.0</td>\n",
       "      <td>3003</td>\n",
       "      <td>395</td>\n",
       "      <td>Bearded Pat's Barleywine</td>\n",
       "      <td>American Barleywine</td>\n",
       "      <td>4.0</td>\n",
       "      <td>3.5</td>\n",
       "      <td>3.5</td>\n",
       "      <td>3.5</td>\n",
       "      <td>3.0</td>\n",
       "      <td>12oz bottle into 8oz snifter.\\t\\tDeep ruby red...</td>\n",
       "    </tr>\n",
       "    <tr>\n",
       "      <th>2</th>\n",
       "      <td>4.7</td>\n",
       "      <td>961</td>\n",
       "      <td>365</td>\n",
       "      <td>Naughty Nellie's Ale</td>\n",
       "      <td>American Pale Ale (APA)</td>\n",
       "      <td>3.5</td>\n",
       "      <td>4.0</td>\n",
       "      <td>3.5</td>\n",
       "      <td>3.5</td>\n",
       "      <td>3.5</td>\n",
       "      <td>First enjoyed at the brewpub about 2 years ago...</td>\n",
       "    </tr>\n",
       "    <tr>\n",
       "      <th>3</th>\n",
       "      <td>4.4</td>\n",
       "      <td>429</td>\n",
       "      <td>1</td>\n",
       "      <td>Pilsner Urquell</td>\n",
       "      <td>Czech Pilsener</td>\n",
       "      <td>3.0</td>\n",
       "      <td>3.0</td>\n",
       "      <td>2.5</td>\n",
       "      <td>3.0</td>\n",
       "      <td>3.0</td>\n",
       "      <td>First thing I noticed after pouring from green...</td>\n",
       "    </tr>\n",
       "    <tr>\n",
       "      <th>4</th>\n",
       "      <td>4.4</td>\n",
       "      <td>4904</td>\n",
       "      <td>1417</td>\n",
       "      <td>Black Sheep Ale (Special)</td>\n",
       "      <td>English Pale Ale</td>\n",
       "      <td>4.0</td>\n",
       "      <td>3.0</td>\n",
       "      <td>3.0</td>\n",
       "      <td>3.5</td>\n",
       "      <td>2.5</td>\n",
       "      <td>A: pours an amber with a one finger head but o...</td>\n",
       "    </tr>\n",
       "  </tbody>\n",
       "</table>\n",
       "</div>"
      ],
      "text/plain": [
       "    ABV  beerId  brewery                       name                    style  \\\n",
       "0   5.0   46634    14338                   Chiostro     Herbed / Spiced Beer   \n",
       "1  11.0    3003      395   Bearded Pat's Barleywine      American Barleywine   \n",
       "2   4.7     961      365       Naughty Nellie's Ale  American Pale Ale (APA)   \n",
       "3   4.4     429        1            Pilsner Urquell           Czech Pilsener   \n",
       "4   4.4    4904     1417  Black Sheep Ale (Special)         English Pale Ale   \n",
       "\n",
       "   appearance  aroma  overall  palate  taste  \\\n",
       "0         4.0    4.0      4.0     4.0    4.0   \n",
       "1         4.0    3.5      3.5     3.5    3.0   \n",
       "2         3.5    4.0      3.5     3.5    3.5   \n",
       "3         3.0    3.0      2.5     3.0    3.0   \n",
       "4         4.0    3.0      3.0     3.5    2.5   \n",
       "\n",
       "                                              review  \n",
       "0  Pours a clouded gold with a thin white head. N...  \n",
       "1  12oz bottle into 8oz snifter.\\t\\tDeep ruby red...  \n",
       "2  First enjoyed at the brewpub about 2 years ago...  \n",
       "3  First thing I noticed after pouring from green...  \n",
       "4  A: pours an amber with a one finger head but o...  "
      ]
     },
     "execution_count": 2,
     "metadata": {},
     "output_type": "execute_result"
    }
   ],
   "source": [
    "beer = beer[[\"beer/ABV\", \"beer/beerId\", \"beer/brewerId\", \"beer/name\", \"beer/style\",\n",
    "            \"review/appearance\", \"review/aroma\", \"review/overall\", \"review/palate\", \"review/taste\", \"review/text\"]]\n",
    "beer.columns = [\"ABV\", \"beerId\", \"brewery\", \"name\", \"style\", \"appearance\", \"aroma\", \"overall\", \"palate\", \"taste\", \"review\"]\n",
    "beer.head()"
   ]
  },
  {
   "cell_type": "code",
   "execution_count": 3,
   "metadata": {
    "collapsed": true
   },
   "outputs": [],
   "source": [
    "beer.beerId = beer.beerId.astype(\"category\").cat.codes.values\n",
    "beer.brewery = beer.brewery.astype(\"category\").cat.codes.values"
   ]
  },
  {
   "cell_type": "code",
   "execution_count": 9,
   "metadata": {
    "collapsed": false
   },
   "outputs": [
    {
     "name": "stderr",
     "output_type": "stream",
     "text": [
      "C:\\Users\\290002494\\AppData\\Local\\Continuum\\anaconda3\\lib\\site-packages\\h5py\\__init__.py:36: FutureWarning: Conversion of the second argument of issubdtype from `float` to `np.floating` is deprecated. In future, it will be treated as `np.float64 == np.dtype(float).type`.\n",
      "  from ._conv import register_converters as _register_converters\n",
      "Using TensorFlow backend.\n"
     ]
    }
   ],
   "source": [
    "import keras\n",
    "from keras.optimizers import Adam\n",
    "n_reviews, n_breweries = len(beer[\"beerId\"].unique()), len(beer[\"brewery\"].unique())\n",
    "n_latent_factors = 20"
   ]
  },
  {
   "cell_type": "code",
   "execution_count": 13,
   "metadata": {
    "collapsed": true
   },
   "outputs": [],
   "source": [
    "brewery_input = keras.layers.Input(shape=(1,),name='Brewery')\n",
    "brewery_embedding = keras.layers.Embedding(n_breweries + 1, n_latent_factors, name='Brewery-Embedding')(brewery_input)\n",
    "brewery_vec = keras.layers.Flatten(name='FlattenBrewery')(brewery_embedding)\n",
    "\n",
    "beer_input = keras.layers.Input(shape=(1,),name='Beer')\n",
    "beer_vec = keras.layers.Flatten(name='FlattenBeer')(keras.layers.Embedding(n_reviews + 1, n_latent_factors,name='Beer-Embedding')(beer_input))\n",
    "\n",
    "#the dot product lets us to the matrix factorization\n",
    "dot_product = keras.layers.dot([brewery_vec, beer_vec], axes=1, normalize=True) #True => cosine similarity\n",
    "model = keras.Model([brewery_input, beer_input], dot_product) #output is the rating prediction\n",
    "model.compile('adam', 'mean_squared_error')"
   ]
  },
  {
   "cell_type": "code",
   "execution_count": 18,
   "metadata": {
    "collapsed": true
   },
   "outputs": [],
   "source": [
    "brewery_input = keras.layers.Input(shape=(1,),name='Brewery')\n",
    "brewery_embedding = keras.layers.Embedding(n_breweries + 1, n_latent_factors, name='Brewery-Embedding')(brewery_input)\n",
    "brewery_vec = keras.layers.Flatten(name='FlattenBrewery')(brewery_embedding)\n",
    "\n",
    "beer_input = keras.layers.Input(shape=(1,),name='Beer')\n",
    "beer_vec = keras.layers.Flatten(name='FlattenBeer')(keras.layers.Embedding(n_reviews + 1, n_latent_factors,name='Beer-Embedding')(beer_input))\n",
    "\n",
    "#you don't need to dot product/matrix factorization... you can concatenate the embeddings then let it figure out the parameters on its own\n",
    "input_vec = keras.layers.Concatenate()([brewery_vec, beer_vec]) #True => cosine similarity\n",
    "x = keras.layers.Dense(128, activation = \"relu\")(input_vec)\n",
    "y = keras.layers.Dense(1)(x)\n",
    "model = keras.Model([brewery_input, beer_input], y) #output is the rating prediction\n",
    "model.compile('adam', 'mean_squared_error')"
   ]
  },
  {
   "cell_type": "code",
   "execution_count": 19,
   "metadata": {
    "collapsed": false
   },
   "outputs": [
    {
     "name": "stdout",
     "output_type": "stream",
     "text": [
      "__________________________________________________________________________________________________\n",
      "Layer (type)                    Output Shape         Param #     Connected to                     \n",
      "==================================================================================================\n",
      "Brewery (InputLayer)            (None, 1)            0                                            \n",
      "__________________________________________________________________________________________________\n",
      "Beer (InputLayer)               (None, 1)            0                                            \n",
      "__________________________________________________________________________________________________\n",
      "Brewery-Embedding (Embedding)   (None, 1, 20)        4260        Brewery[0][0]                    \n",
      "__________________________________________________________________________________________________\n",
      "Beer-Embedding (Embedding)      (None, 1, 20)        34640       Beer[0][0]                       \n",
      "__________________________________________________________________________________________________\n",
      "FlattenBrewery (Flatten)        (None, 20)           0           Brewery-Embedding[0][0]          \n",
      "__________________________________________________________________________________________________\n",
      "FlattenBeer (Flatten)           (None, 20)           0           Beer-Embedding[0][0]             \n",
      "__________________________________________________________________________________________________\n",
      "concatenate_2 (Concatenate)     (None, 40)           0           FlattenBrewery[0][0]             \n",
      "                                                                 FlattenBeer[0][0]                \n",
      "__________________________________________________________________________________________________\n",
      "dense_1 (Dense)                 (None, 128)          5248        concatenate_2[0][0]              \n",
      "__________________________________________________________________________________________________\n",
      "dense_2 (Dense)                 (None, 1)            129         dense_1[0][0]                    \n",
      "==================================================================================================\n",
      "Total params: 44,277\n",
      "Trainable params: 44,277\n",
      "Non-trainable params: 0\n",
      "__________________________________________________________________________________________________\n"
     ]
    }
   ],
   "source": [
    "model.summary()"
   ]
  },
  {
   "cell_type": "code",
   "execution_count": 20,
   "metadata": {
    "collapsed": false,
    "scrolled": true
   },
   "outputs": [
    {
     "name": "stdout",
     "output_type": "stream",
     "text": [
      "Epoch 1/5\n",
      "37500/37500 [==============================] - 3s 78us/step - loss: 0.9678\n",
      "Epoch 2/5\n",
      "37500/37500 [==============================] - 3s 68us/step - loss: 0.3249\n",
      "Epoch 3/5\n",
      "37500/37500 [==============================] - 3s 74us/step - loss: 0.3189\n",
      "Epoch 4/5\n",
      "37500/37500 [==============================] - 3s 73us/step - loss: 0.3140\n",
      "Epoch 5/5\n",
      "37500/37500 [==============================] - 3s 73us/step - loss: 0.3123\n"
     ]
    },
    {
     "data": {
      "text/plain": [
       "<keras.callbacks.History at 0x141ee828>"
      ]
     },
     "execution_count": 20,
     "metadata": {},
     "output_type": "execute_result"
    }
   ],
   "source": [
    "model.fit([beer.brewery, beer.beerId], beer.taste, epochs=5)"
   ]
  },
  {
   "cell_type": "code",
   "execution_count": 16,
   "metadata": {
    "collapsed": false
   },
   "outputs": [
    {
     "name": "stdout",
     "output_type": "stream",
     "text": [
      "[ 0.2639623   0.24798922  0.25122333 ... -0.13541909 -0.21198961\n",
      "  0.447494  ]\n",
      "Beer you want a recommendation for is:  ['Founders Porter']\n",
      "Beer recommnedations for you are:  ['British Pale Ale' 'Battin Extra' \"Santa's Smokin' Winter Warmer\"\n",
      " 'Bofferding Lager Pils' 'Hop Prophet']\n"
     ]
    }
   ],
   "source": [
    "import numpy as np\n",
    "beer_data = np.array(list(set(beer.beerId)))\n",
    "br = np.array([151 for i in range(len(beer_data))])\n",
    "#gets the prediction value for beer 0 vs every other beer\n",
    "predictions = model.predict([br, beer_data])\n",
    "predictions = np.array([a[0] for a in predictions])\n",
    "print(predictions)\n",
    "#top 5 beers for beer id 0\n",
    "recommended_beers = (-predictions).argsort()[:5]\n",
    "print(\"Beer you want a recommendation for is: \", beer[beer.beerId == 151][\"name\"].unique())\n",
    "print(\"Beer recommnedations for you are: \",beer[beer.beerId.isin(recommended_beers)][\"name\"].unique())"
   ]
  },
  {
   "cell_type": "code",
   "execution_count": 5,
   "metadata": {
    "collapsed": true
   },
   "outputs": [],
   "source": [
    "#make a second recommnedation system based on the text/reviews\n",
    "n_latent_factors = 10\n",
    "#list(beer[\"review\"])[:2]\n",
    "#len(set(re.findall('\\w+', str(list(beer[\"review\"])).lower())))\n",
    "from keras.preprocessing.text import Tokenizer, text_to_word_sequence, one_hot\n",
    "from keras.preprocessing.sequence import pad_sequences\n",
    "from keras.models import Sequential\n",
    "review_string = \" \".join(beer[\"style\"].astype(str).tolist())\n",
    "tokenizer = Tokenizer()\n",
    "words = set(text_to_word_sequence(review_string))\n",
    "vocab_size = len(words)\n",
    "n_words = vocab_size"
   ]
  },
  {
   "cell_type": "code",
   "execution_count": 6,
   "metadata": {
    "collapsed": true
   },
   "outputs": [],
   "source": [
    "encoded_doc = [one_hot(i, vocab_size) for i in beer[\"style\"].astype(str).tolist()]"
   ]
  },
  {
   "cell_type": "code",
   "execution_count": 7,
   "metadata": {
    "collapsed": false
   },
   "outputs": [
    {
     "data": {
      "text/plain": [
       "array([101, 106,   5,   0,   0])"
      ]
     },
     "execution_count": 7,
     "metadata": {},
     "output_type": "execute_result"
    }
   ],
   "source": [
    "max_length = 5\n",
    "padded_docs = pad_sequences(encoded_doc, maxlen= max_length, padding = \"post\")\n",
    "padded_docs[0]"
   ]
  },
  {
   "cell_type": "code",
   "execution_count": 12,
   "metadata": {
    "collapsed": true
   },
   "outputs": [],
   "source": [
    "model = Sequential()\n",
    "model.add(keras.layers.Embedding(n_words + 1, n_latent_factors, name='Review-Embedding', input_length = max_length))\n",
    "model.add(keras.layers.Flatten(name='FlattenReview'))\n",
    "model.add(keras.layers.Dense(1))"
   ]
  },
  {
   "cell_type": "code",
   "execution_count": 13,
   "metadata": {
    "collapsed": true
   },
   "outputs": [],
   "source": [
    "model.compile(\"adam\", \"mean_squared_error\")"
   ]
  },
  {
   "cell_type": "code",
   "execution_count": 14,
   "metadata": {
    "collapsed": false
   },
   "outputs": [
    {
     "name": "stdout",
     "output_type": "stream",
     "text": [
      "_________________________________________________________________\n",
      "Layer (type)                 Output Shape              Param #   \n",
      "=================================================================\n",
      "Review-Embedding (Embedding) (None, 30, 10)            434530    \n",
      "_________________________________________________________________\n",
      "FlattenReview (Flatten)      (None, 300)               0         \n",
      "_________________________________________________________________\n",
      "dense_1 (Dense)              (None, 1)                 301       \n",
      "=================================================================\n",
      "Total params: 434,831\n",
      "Trainable params: 434,831\n",
      "Non-trainable params: 0\n",
      "_________________________________________________________________\n"
     ]
    }
   ],
   "source": [
    "model.summary()"
   ]
  },
  {
   "cell_type": "code",
   "execution_count": 15,
   "metadata": {
    "collapsed": false
   },
   "outputs": [
    {
     "name": "stdout",
     "output_type": "stream",
     "text": [
      "Epoch 1/1\n",
      "37500/37500 [==============================] - 24s 628us/step - loss: 1.5790\n"
     ]
    },
    {
     "data": {
      "text/plain": [
       "<keras.callbacks.History at 0x13951320>"
      ]
     },
     "execution_count": 15,
     "metadata": {},
     "output_type": "execute_result"
    }
   ],
   "source": [
    "model.fit(padded_docs, beer.taste, epochs = 1)"
   ]
  },
  {
   "cell_type": "code",
   "execution_count": 325,
   "metadata": {
    "collapsed": false
   },
   "outputs": [
    {
     "data": {
      "text/plain": [
       "array([[4.2941303]], dtype=float32)"
      ]
     },
     "execution_count": 325,
     "metadata": {},
     "output_type": "execute_result"
    }
   ],
   "source": [
    "#basically another rating out of 5\n",
    "model.predict(padded_docs[0].reshape(1,30))"
   ]
  },
  {
   "cell_type": "code",
   "execution_count": 248,
   "metadata": {
    "collapsed": true
   },
   "outputs": [],
   "source": []
  },
  {
   "cell_type": "markdown",
   "metadata": {},
   "source": [
    "hybrid recommendation system that uses metadata and rating data. This is what we have been searching for! https://medium.com/data-from-the-trenches/deep-beers-improving-the-performance-of-deep-recommendation-engines-using-keras-73c32e4a192a"
   ]
  },
  {
   "cell_type": "code",
   "execution_count": 4,
   "metadata": {
    "collapsed": false
   },
   "outputs": [
    {
     "name": "stderr",
     "output_type": "stream",
     "text": [
      "C:\\Users\\290002494\\AppData\\Local\\Continuum\\anaconda3\\lib\\site-packages\\h5py\\__init__.py:36: FutureWarning: Conversion of the second argument of issubdtype from `float` to `np.floating` is deprecated. In future, it will be treated as `np.float64 == np.dtype(float).type`.\n",
      "  from ._conv import register_converters as _register_converters\n",
      "Using TensorFlow backend.\n"
     ]
    }
   ],
   "source": [
    "import keras\n",
    "from keras.optimizers import Adam\n",
    "n_reviews, n_breweries, n_style = len(beer[\"beerId\"].unique()), len(beer[\"brewery\"].unique()), len(beer[\"style\"].unique())\n",
    "n_latent_factors = 10"
   ]
  },
  {
   "cell_type": "code",
   "execution_count": 8,
   "metadata": {
    "collapsed": true
   },
   "outputs": [],
   "source": [
    "brewery_input = keras.layers.Input(shape=(1,),name='Brewery')\n",
    "brewery_embedding = keras.layers.Embedding(n_breweries + 1, n_latent_factors, name='Brewery-Embedding')(brewery_input)\n",
    "brewery_vec = keras.layers.Flatten(name='FlattenBrewery')(brewery_embedding)\n",
    "\n",
    "beer_input = keras.layers.Input(shape=(1,),name='Beer')\n",
    "beer_vec = keras.layers.Flatten(name='FlattenBeer')(keras.layers.Embedding(n_reviews + 1, n_latent_factors,name='Beer-Embedding')(beer_input))\n",
    "\n",
    "style_input = keras.layers.Input(shape=(5,),name='Style')\n",
    "style_embedding = keras.layers.Embedding(n_words + 1, n_latent_factors, name='Style-Embedding', input_length = max_length)(style_input)\n",
    "style_vec = keras.layers.Flatten(name='Flattenstyle')(style_embedding)"
   ]
  },
  {
   "cell_type": "code",
   "execution_count": 9,
   "metadata": {
    "collapsed": true
   },
   "outputs": [],
   "source": [
    "#you don't need to dot product/matrix factorization... you can concatenate the embeddings then let it figure out the parameters on its own\n",
    "input_vec = keras.layers.Concatenate()([brewery_vec, beer_vec, style_vec]) #True => cosine similarity\n",
    "x = keras.layers.Dense(128, activation = \"relu\")(input_vec)\n",
    "y = keras.layers.Dense(1)(x)\n",
    "model = keras.Model([brewery_input, beer_input, style_input], y) #output is the rating prediction\n",
    "model.compile('adam', 'mean_squared_error')"
   ]
  },
  {
   "cell_type": "code",
   "execution_count": 10,
   "metadata": {
    "collapsed": false
   },
   "outputs": [
    {
     "name": "stdout",
     "output_type": "stream",
     "text": [
      "__________________________________________________________________________________________________\n",
      "Layer (type)                    Output Shape         Param #     Connected to                     \n",
      "==================================================================================================\n",
      "Brewery (InputLayer)            (None, 1)            0                                            \n",
      "__________________________________________________________________________________________________\n",
      "Beer (InputLayer)               (None, 1)            0                                            \n",
      "__________________________________________________________________________________________________\n",
      "Style (InputLayer)              (None, 5)            0                                            \n",
      "__________________________________________________________________________________________________\n",
      "Brewery-Embedding (Embedding)   (None, 1, 10)        2130        Brewery[0][0]                    \n",
      "__________________________________________________________________________________________________\n",
      "Beer-Embedding (Embedding)      (None, 1, 10)        17320       Beer[0][0]                       \n",
      "__________________________________________________________________________________________________\n",
      "Style-Embedding (Embedding)     (None, 5, 10)        1130        Style[0][0]                      \n",
      "__________________________________________________________________________________________________\n",
      "FlattenBrewery (Flatten)        (None, 10)           0           Brewery-Embedding[0][0]          \n",
      "__________________________________________________________________________________________________\n",
      "FlattenBeer (Flatten)           (None, 10)           0           Beer-Embedding[0][0]             \n",
      "__________________________________________________________________________________________________\n",
      "Flattenstyle (Flatten)          (None, 50)           0           Style-Embedding[0][0]            \n",
      "__________________________________________________________________________________________________\n",
      "concatenate_1 (Concatenate)     (None, 70)           0           FlattenBrewery[0][0]             \n",
      "                                                                 FlattenBeer[0][0]                \n",
      "                                                                 Flattenstyle[0][0]               \n",
      "__________________________________________________________________________________________________\n",
      "dense_1 (Dense)                 (None, 128)          9088        concatenate_1[0][0]              \n",
      "__________________________________________________________________________________________________\n",
      "dense_2 (Dense)                 (None, 1)            129         dense_1[0][0]                    \n",
      "==================================================================================================\n",
      "Total params: 29,797\n",
      "Trainable params: 29,797\n",
      "Non-trainable params: 0\n",
      "__________________________________________________________________________________________________\n"
     ]
    }
   ],
   "source": [
    "model.summary()"
   ]
  },
  {
   "cell_type": "code",
   "execution_count": 11,
   "metadata": {
    "collapsed": false
   },
   "outputs": [
    {
     "name": "stdout",
     "output_type": "stream",
     "text": [
      "Epoch 1/10\n",
      "37500/37500 [==============================] - 3s 93us/step - loss: 0.8080\n",
      "Epoch 2/10\n",
      "37500/37500 [==============================] - 3s 89us/step - loss: 0.3209\n",
      "Epoch 3/10\n",
      "37500/37500 [==============================] - 3s 91us/step - loss: 0.3177\n",
      "Epoch 4/10\n",
      "37500/37500 [==============================] - 3s 83us/step - loss: 0.3147\n",
      "Epoch 5/10\n",
      "37500/37500 [==============================] - 3s 89us/step - loss: 0.3119\n",
      "Epoch 6/10\n",
      "37500/37500 [==============================] - 3s 87us/step - loss: 0.3113\n",
      "Epoch 7/10\n",
      "37500/37500 [==============================] - 3s 90us/step - loss: 0.3099\n",
      "Epoch 8/10\n",
      "37500/37500 [==============================] - 4s 108us/step - loss: 0.3084\n",
      "Epoch 9/10\n",
      "37500/37500 [==============================] - 3s 84us/step - loss: 0.3085\n",
      "Epoch 10/10\n",
      "37500/37500 [==============================] - 3s 78us/step - loss: 0.3084\n"
     ]
    },
    {
     "data": {
      "text/plain": [
       "<keras.callbacks.History at 0xd4ec908>"
      ]
     },
     "execution_count": 11,
     "metadata": {},
     "output_type": "execute_result"
    }
   ],
   "source": [
    "model.fit([beer.brewery, beer.beerId, padded_docs], beer.taste, epochs=10)"
   ]
  },
  {
   "cell_type": "code",
   "execution_count": 12,
   "metadata": {
    "collapsed": false
   },
   "outputs": [
    {
     "name": "stdout",
     "output_type": "stream",
     "text": [
      "[2.8354628 2.9561565 2.6477864 ... 2.8547873 3.117305  3.531358 ]\n",
      "Beer you want a recommendation for is:  ['Founders Porter']\n",
      "Beer recommnedations for you are:  ['Pisser Mauvais' 'Bernard Light 10Â° - Bernard Sv&#283;tlÃ© Pivo 10Â°'\n",
      " 'Swan Stout' 'Bourbon Barrel Barleywine' 'Old Snowshoe Winter Ale']\n"
     ]
    }
   ],
   "source": [
    "import numpy as np\n",
    "beer_data = np.array(list(set(beer.beerId)))\n",
    "br = np.array([151 for i in range(len(beer_data))])\n",
    "pad_br = np.array([padded_docs[151] for i in range(len(beer_data))])\n",
    "#gets the prediction value for beer 0 vs every other beer\n",
    "predictions = model.predict([br, beer_data, pad_br])\n",
    "predictions = np.array([a[0] for a in predictions])\n",
    "print(predictions)\n",
    "#top 5 beers for beer id 0\n",
    "recommended_beers = (-predictions).argsort()[:5]\n",
    "print(\"Beer you want a recommendation for is: \", beer[beer.beerId == 151][\"name\"].unique())\n",
    "print(\"Beer recommnedations for you are: \",beer[beer.beerId.isin(recommended_beers)][\"name\"].unique())"
   ]
  }
 ],
 "metadata": {
  "anaconda-cloud": {},
  "kernelspec": {
   "display_name": "Python [default]",
   "language": "python",
   "name": "python3"
  },
  "language_info": {
   "codemirror_mode": {
    "name": "ipython",
    "version": 3
   },
   "file_extension": ".py",
   "mimetype": "text/x-python",
   "name": "python",
   "nbconvert_exporter": "python",
   "pygments_lexer": "ipython3",
   "version": "3.5.2"
  }
 },
 "nbformat": 4,
 "nbformat_minor": 2
}
